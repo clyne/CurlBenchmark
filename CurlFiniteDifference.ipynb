{
 "cells": [
  {
   "cell_type": "code",
   "execution_count": 1,
   "id": "2ae0ba75-fab4-430f-8506-55bdc91dd3e0",
   "metadata": {},
   "outputs": [],
   "source": [
    "\"\"\"xarray/dask-compatible finite differencing functions\"\"\"\n",
    "import dask.array as darray\n",
    "import numpy as np\n",
    "import xarray as xr\n",
    "\n",
    "from scipy.ndimage import correlate1d\n",
    "from sympy.calculus import finite_diff_weights\n",
    "#from xarray.core import computation"
   ]
  },
  {
   "cell_type": "code",
   "execution_count": 2,
   "id": "2efbb1ca-a7e7-4b92-8985-9c013b3a4461",
   "metadata": {},
   "outputs": [],
   "source": [
    "def centered_diff_weights(accuracy, spacing=1.):\n",
    "    \"\"\"Compute the weights of a central difference approx. to derivative\n",
    "\n",
    "    Does so for an arbitrary even-valued order of accuracy.\n",
    "\n",
    "    Parameters\n",
    "    ----------\n",
    "    accuracy : int\n",
    "        Order of accuracy of approximation (must be even)\n",
    "    spacing : float\n",
    "        Uniform spacing between the points (default = 1.)\n",
    "\n",
    "    Returns\n",
    "    -------\n",
    "    list of finite difference weights\n",
    "    \"\"\"\n",
    "    if accuracy % 2:\n",
    "        raise ValueError('Can only generate centered difference stencil '\n",
    "                         'for an even-valued order of accuracy.  Got '\n",
    "                         '{}'.format(accuracy))\n",
    "    domain = np.arange(0., accuracy + 1.) * spacing\n",
    "    center = (accuracy / 2.) * spacing\n",
    "    return finite_diff_weights(1, domain, center)[1][-1]"
   ]
  },
  {
   "cell_type": "code",
   "execution_count": null,
   "id": "19f5df94-3316-43bd-af99-4a8630fc7346",
   "metadata": {},
   "outputs": [],
   "source": []
  },
  {
   "cell_type": "code",
   "execution_count": null,
   "id": "be405f94-cdeb-424a-8116-3aaed13bba1f",
   "metadata": {},
   "outputs": [],
   "source": []
  },
  {
   "cell_type": "code",
   "execution_count": 3,
   "id": "a960c604-6446-4487-913d-56be5b1d0310",
   "metadata": {},
   "outputs": [],
   "source": [
    "def forward_diff_weights(accuracy, spacing=1.):\n",
    "    \"\"\"Compute the weights of a forward difference approx. to derivative\n",
    "\n",
    "    Does so for an arbitrary order of accuracy.\n",
    "\n",
    "    Parameters\n",
    "    ----------\n",
    "    accuracy : int\n",
    "        Integer-valued order of accuracy of approximation\n",
    "    spacing : float\n",
    "        Uniform spacing between points (default = 1.)\n",
    "\n",
    "    Returns\n",
    "    -------\n",
    "    list of finite difference weights\n",
    "    \"\"\"\n",
    "    domain = np.arange(0., accuracy + 1.) * spacing\n",
    "    return finite_diff_weights(1, domain, domain[0])[1][-1]"
   ]
  },
  {
   "cell_type": "code",
   "execution_count": 4,
   "id": "00caf085-6dac-42d9-8bb4-c36efc93e974",
   "metadata": {},
   "outputs": [],
   "source": [
    "def backward_diff_weights(accuracy, spacing=1.):\n",
    "    \"\"\"Compute the weights of a backward difference approx. to derivative\n",
    "\n",
    "    Does so for an arbitrary order of accuracy.\n",
    "\n",
    "    Parameters\n",
    "    ----------\n",
    "    accuracy : int\n",
    "        Integer-valued order of accuracy of approximation\n",
    "    spacing : float\n",
    "        Uniform spacing between points (default = 1.)\n",
    "\n",
    "    Returns\n",
    "    -------\n",
    "    list of finite difference weights\n",
    "    \"\"\"\n",
    "    domain = np.arange(0., accuracy + 1.) * spacing\n",
    "    return finite_diff_weights(1, domain, domain[-1])[1][-1]"
   ]
  },
  {
   "cell_type": "code",
   "execution_count": 5,
   "id": "af5d8f18-b567-464c-8837-a413496cebf4",
   "metadata": {},
   "outputs": [],
   "source": [
    "def xcorrelate1d(da, dim, kernel, **kwargs):\n",
    "    \"\"\"Apply ``correlate1d`` along a given dimension\n",
    "\n",
    "    Parameters\n",
    "    ----------\n",
    "    da : xr.DataArray\n",
    "        DataArray\n",
    "    dim : str\n",
    "        Dimension name\n",
    "    kernel : array-like\n",
    "        1D sequence of numbers (i.e. correlation weights)\n",
    "    **kwargs\n",
    "        Keyword arguments to supply to ``scipy.ndimage.filters.correlate1d``\n",
    "\n",
    "    Returns\n",
    "    -------\n",
    "    xr.DataArray\n",
    "    \"\"\"\n",
    "    def apply_corr(arr, **kwargs):\n",
    "        #\n",
    "        # If not a Dask array\n",
    "        #\n",
    "        if not isinstance(arr, darray.core.Array):\n",
    "            return correlate1d(arr, **kwargs)\n",
    "        else:\n",
    "            origin = kwargs.get('origin', 0)\n",
    "            depth = int(len(kwargs['weights']) / 2 + np.abs(origin))\n",
    "            axis = len(arr.shape) - 1\n",
    "\n",
    "            if kwargs['mode'] != 'wrap':\n",
    "                # TODO: Don't hard-code periodic boundary conditions\n",
    "                raise NotImplementedError(\n",
    "                    'xdiff currently only supports periodic boundary '\n",
    "                    'conditions on dask arrays')\n",
    "            \n",
    "            return darray.map_overlap(correlate1d,arr,\n",
    "                                            depth={axis: depth},\n",
    "                                            boundary={axis: 'periodic'},\n",
    "                                            **kwargs)\n",
    "\n",
    "    return xr.apply_ufunc(apply_corr, da, input_core_dims=[[dim]],\n",
    "                                   output_core_dims=[[dim]],\n",
    "                                   kwargs=dict(weights=kernel, **kwargs),\n",
    "                                   dask='allowed')\n"
   ]
  },
  {
   "cell_type": "code",
   "execution_count": 6,
   "id": "0ded4e37-d7dc-4762-a52b-40f2fa1a7fd6",
   "metadata": {},
   "outputs": [],
   "source": [
    "def xdiff(da, dim, method='centered', accuracy=2, spacing=1, mode='wrap'):\n",
    "    \"\"\"Compute the derivative to an arbitrary order of accuracy\n",
    "\n",
    "    Assumes uniform grid spacing.\n",
    "\n",
    "    Parameters\n",
    "    ----------\n",
    "    da : xr.DataArray\n",
    "        DataArray\n",
    "    dim : str\n",
    "        Dimension name to perform derivative along\n",
    "    method : str\n",
    "        Options are 'centered', 'backward', and 'forward'\n",
    "    accuracy : int\n",
    "        Order of accuracy of approximation\n",
    "    spacing : float\n",
    "        Grid spacing\n",
    "    mode : str\n",
    "        How to handle boundary; options are same as those that can be passed to\n",
    "        correlate1d\n",
    "\n",
    "    Returns\n",
    "    -------\n",
    "    xr.DataArray\n",
    "    \"\"\"\n",
    "    if method == 'centered':\n",
    "        weights = centered_diff_weights(accuracy, spacing)\n",
    "        origin = 0\n",
    "    elif method == 'forward':\n",
    "        weights = forward_diff_weights(accuracy, spacing)\n",
    "        origin = -int(np.ceil(accuracy / 2.))\n",
    "    elif method == 'backward':\n",
    "        weights = backward_diff_weights(accuracy, spacing)\n",
    "        origin = int(np.floor(accuracy / 2.))\n",
    "    else:\n",
    "        raise ValueError('Invalid differencing method '\n",
    "                         'specified: {}'.format(method))\n",
    "    return xcorrelate1d(da, dim, weights, origin=origin, mode=mode)"
   ]
  },
  {
   "cell_type": "code",
   "execution_count": 7,
   "id": "9f76b012-f1f6-41c5-8c85-490287d26d4c",
   "metadata": {},
   "outputs": [],
   "source": [
    "def xgradient(da, dim, accuracy=2, spacing=1.):\n",
    "    \"\"\"Arbitrary even-order extension of np.gradient for DataArrays.\n",
    "\n",
    "    Meant for computing approximations for derivatives in a non-peridiodic\n",
    "    setting.  Uses centered differencing in the interior, and forward and\n",
    "    backward differencing on the left and right edges respectively.  Currently\n",
    "    only supports operations along a single axis (though operations along\n",
    "    multiple axes can be done with repeated calls to ``xgradient``).\n",
    "\n",
    "    Parameters\n",
    "    ----------\n",
    "    da : xr.DataArray\n",
    "        DataArray\n",
    "    dim : str\n",
    "        Name of dimension\n",
    "    accuracy : int\n",
    "        Even order of accuracy of differencing approximation\n",
    "    spacing : float\n",
    "        Distance between points (must be uniform)\n",
    "\n",
    "    Returns\n",
    "    -------\n",
    "    xr.DataArray\n",
    "    \"\"\"\n",
    "    interior = xdiff(\n",
    "        da, dim, method='centered',\n",
    "        accuracy=accuracy, spacing=spacing).isel(\n",
    "            **{dim: slice(accuracy, -accuracy)})\n",
    "\n",
    "    left = da.isel(**{dim: slice(None, 2 * accuracy)})\n",
    "    left = left.chunk({dim: left.sizes[dim]})\n",
    "    left = xdiff(\n",
    "        left, dim, method='forward',\n",
    "        accuracy=accuracy, spacing=spacing).isel(\n",
    "            **{dim: slice(None, accuracy)})\n",
    "\n",
    "    right = da.isel(**{dim: slice(-2 * accuracy, None)})\n",
    "    right = right.chunk({dim: right.sizes[dim]})\n",
    "    right = xdiff(\n",
    "        right, dim, method='backward',\n",
    "        accuracy=accuracy, spacing=spacing).isel(\n",
    "            **{dim: slice(-accuracy, None)})\n",
    "\n",
    "    return xr.concat([left, interior, right], dim=dim).chunk(chunks=da.chunksizes)"
   ]
  },
  {
   "cell_type": "code",
   "execution_count": 8,
   "id": "554a736a-e0f3-410e-8dcd-1ece58b13279",
   "metadata": {},
   "outputs": [],
   "source": [
    "def curl(m,n,p,dx,dy,dz,accuracy):\n",
    "    \"\"\" Compute curl of a 3D vector field.\n",
    "    \n",
    "    Parameters\n",
    "    ----------\n",
    "    m : xr.DataArray\n",
    "        X component of velocity\n",
    "    n : xr.DataArray\n",
    "        X component of velocity\n",
    "    p : xr.DataArray\n",
    "        X component of velocity\n",
    "    dx : Scalar\n",
    "        Sample spacing along X direction\n",
    "    dy : Scalar\n",
    "        Sample spacing along Y direction\n",
    "    dz : Scalar\n",
    "        Sample spacing along Z direction\n",
    "    accuracy : int\n",
    "        Even order of accuracy of differencing approximation\n",
    "        \n",
    "    Returns wx,wy,wz\n",
    "        X,Y,Z components of curl\n",
    "    \"\"\"\n",
    "    \n",
    "    aux1 = xgradient(p, p.dims[1], accuracy=accuracy, spacing=dy)\n",
    "    aux2 = xgradient(n, n.dims[0], accuracy=accuracy, spacing=dz)\n",
    "    outx = aux1-aux2\n",
    "    \n",
    "    aux1 = xgradient(m, m.dims[0], accuracy=accuracy, spacing=dz)\n",
    "    aux2 = xgradient(p, p.dims[2], accuracy=accuracy, spacing=dx)\n",
    "    outy = aux1-aux2\n",
    "    \n",
    "    aux1 = xgradient(n, n.dims[2], accuracy=accuracy, spacing=dx)\n",
    "    aux2 = xgradient(m, m.dims[1], accuracy=accuracy, spacing=dy)\n",
    "    outz = aux1-aux2\n",
    "    \n",
    "    return outx, outy, outz\n",
    "        "
   ]
  },
  {
   "cell_type": "code",
   "execution_count": 10,
   "id": "4d963529-cda6-4d88-8a0b-43aa51a3679f",
   "metadata": {},
   "outputs": [],
   "source": [
    "import matplotlib.pyplot as plt\n",
    "%matplotlib inline"
   ]
  },
  {
   "cell_type": "code",
   "execution_count": null,
   "id": "2749e1c4-aafc-4d63-add6-67dfa712ee28",
   "metadata": {},
   "outputs": [],
   "source": [
    "x = np.linspace(0., 2. * np.pi, 100, endpoint=False)\n",
    "dx = x[1] - x[0]\n",
    "test = xr.DataArray(np.sin(x), coords=[x], dims=['x'])"
   ]
  },
  {
   "cell_type": "code",
   "execution_count": null,
   "id": "d0bc7dc4-3539-47fc-a573-56499dbd92f2",
   "metadata": {},
   "outputs": [],
   "source": [
    "f = xdiff(test, 'x', accuracy=2, method='centered', spacing=dx)"
   ]
  },
  {
   "cell_type": "code",
   "execution_count": null,
   "id": "22df660c-9f4f-4656-bc20-60c513d805a3",
   "metadata": {},
   "outputs": [],
   "source": [
    "test.plot(label='input')\n",
    "xdiff(test, 'x', accuracy=2, method='centered', spacing=dx).plot(label='result (centered)')\n",
    "xdiff(test, 'x', accuracy=2, method='forward', spacing=dx).plot(label='result (forward)')\n",
    "#xdiff(test, 'x', accuracy=2, method='backward', spacing=dx).plot(label='result (backward)')\n",
    "plt.gca().legend(loc='lower left')"
   ]
  },
  {
   "cell_type": "code",
   "execution_count": null,
   "id": "56b933fd-881f-4d1b-9701-ae56c991de23",
   "metadata": {},
   "outputs": [],
   "source": [
    "x = np.linspace(0., 2. * np.pi, 100, endpoint=False)\n",
    "dx = x[1] - x[0]\n",
    "test = xr.DataArray(np.sin(x), coords=[x], dims=['x']).chunk({'x': 10})\n",
    "test.data"
   ]
  },
  {
   "cell_type": "code",
   "execution_count": null,
   "id": "7543952b-fa96-400e-8110-218da28e8d8f",
   "metadata": {},
   "outputs": [],
   "source": [
    "test.plot(label='input')\n",
    "xdiff(test, 'x', accuracy=2, method='centered', spacing=dx).plot(label='result (centered)')\n",
    "xdiff(test, 'x', accuracy=2, method='forward', spacing=dx).plot(label='result (forward)')\n",
    "xdiff(test, 'x', accuracy=2, method='backward', spacing=dx).plot(label='result (backward)')\n",
    "plt.gca().legend(loc='lower left')"
   ]
  },
  {
   "cell_type": "code",
   "execution_count": null,
   "id": "5c28d185-58ac-421e-8da0-0abedf255c76",
   "metadata": {},
   "outputs": [],
   "source": [
    "x = np.linspace(0., np.pi, 100, endpoint=False)  # Halt at np.pi (rather than 2 * np.pi)\n",
    "dx = x[1] - x[0]\n",
    "test = xr.DataArray(np.sin(x), coords=[x], dims=['x']).chunk({'x': 10})\n"
   ]
  },
  {
   "cell_type": "code",
   "execution_count": null,
   "id": "da331ce0-0781-49fa-8257-e1ea1467ca46",
   "metadata": {},
   "outputs": [],
   "source": [
    "test.plot(label='input')\n",
    "xgradient(test, 'x', accuracy=8, spacing=dx).plot(label='result')\n",
    "plt.gca().legend(loc='lower left')"
   ]
  },
  {
   "cell_type": "code",
   "execution_count": null,
   "id": "c7ef42f0-f443-46f6-a504-09530fa4b2ec",
   "metadata": {},
   "outputs": [],
   "source": [
    "x = np.linspace(0., 2. * np.pi, 100, endpoint=False)\n",
    "dx = x[1] - x[0]\n",
    "y = xr.DataArray(np.arange(10), coords=[np.arange(10)], dims=['y'])\n",
    "z = xr.DataArray(np.arange(12, 20), coords=[np.arange(12, 20)], dims=['z'])\n",
    "test = xr.DataArray(np.sin(x), coords=[x], dims=['x'])"
   ]
  },
  {
   "cell_type": "code",
   "execution_count": null,
   "id": "6707be32-1947-4aa9-9f3d-5c130f598a2b",
   "metadata": {},
   "outputs": [],
   "source": [
    "test3d, _ = xr.broadcast(test, y * z)\n",
    "test3d = test3d.transpose('y', 'x', 'z').chunk({'x': 10, 'y': 1})\n",
    "test3d"
   ]
  },
  {
   "cell_type": "code",
   "execution_count": null,
   "id": "0db90eef-e4aa-41e2-a1db-db7c7a13d223",
   "metadata": {},
   "outputs": [],
   "source": []
  },
  {
   "cell_type": "code",
   "execution_count": 36,
   "id": "1b6c2b27-7ec9-49f9-a1e1-d2b15f9a5e5d",
   "metadata": {},
   "outputs": [],
   "source": [
    "n=512\n",
    "c=64\n",
    "x1d = np.linspace(0., 1., n)\n",
    "x = np.broadcast_to(x1d, (n,n,n))\n",
    "\n",
    "y1d = np.linspace(0., 1., n)\n",
    "y = np.broadcast_to(y1d[:,None], (n,n,n))\n",
    "        \n",
    "z1d = np.linspace(0., 1., n)\n",
    "\n",
    "vx = y*y*y - 9*y\n",
    "vy = x*x*x - 9*x\n",
    "vz = np.zeros((n,n,n))\n",
    "\n",
    "vx = xr.DataArray(vx, coords=[z1d, y1d, x1d], dims=['z', 'y', 'x']).chunk((c,c,c))\n",
    "vy = xr.DataArray(vy, coords=[z1d, y1d, x1d], dims=['z', 'y', 'x']).chunk((c,c,c))\n",
    "vz = xr.DataArray(vz, coords=[z1d, y1d, x1d], dims=['z', 'y', 'x']).chunk((c,c,c))\n"
   ]
  },
  {
   "cell_type": "code",
   "execution_count": 37,
   "id": "8bcc86bf-669d-4197-8d70-f13a3a11a658",
   "metadata": {},
   "outputs": [],
   "source": [
    "ds = vx.to_dataset(name = 'vx')\n",
    "ds['vy'] = vy\n",
    "ds['vz'] = vz\n",
    "\n",
    "\n",
    "\n",
    "\n"
   ]
  },
  {
   "cell_type": "code",
   "execution_count": 38,
   "id": "cedc17a6-70a3-4fdf-8780-203a844129dd",
   "metadata": {},
   "outputs": [
    {
     "name": "stdout",
     "output_type": "stream",
     "text": [
      "CPU times: user 21.6 s, sys: 5.04 s, total: 26.6 s\n",
      "Wall time: 14 s\n"
     ]
    }
   ],
   "source": [
    "%%time\n",
    "wx,wy,wz =  curl(vx,vy,vz,x1d[1]-x1d[0],y1d[1]-y1d[0],z1d[1]-z1d[0],accuracy=6)\n",
    "wx.compute();\n",
    "wy.compute();\n",
    "wz.compute();\n",
    "f=1"
   ]
  },
  {
   "cell_type": "code",
   "execution_count": 20,
   "id": "a887d07e-3d0b-444b-94e7-8888ca2d9c95",
   "metadata": {},
   "outputs": [],
   "source": [
    "wxtrue = np.zeros((n,n,n))\n",
    "wytrue = np.zeros((n,n,n))\n",
    "wztrue = (3*x*x) - (3*y*y)"
   ]
  },
  {
   "cell_type": "code",
   "execution_count": 21,
   "id": "6e870825-54f9-4a32-874d-8b408c4e4cb1",
   "metadata": {},
   "outputs": [
    {
     "name": "stdout",
     "output_type": "stream",
     "text": [
      "1.4551915228366852e-11\n",
      "1.4551915228366852e-11\n",
      "1.3320899938662478e-11\n"
     ]
    }
   ],
   "source": [
    "\n",
    "#wxerrmax = darray.max(darray.absolute(wx-wxtrue))\n",
    "wxerrmax = darray.absolute(wx-wxtrue)\n",
    "f = wxerrmax.max()\n",
    "print(float(f))\n",
    "wyerrmax = darray.absolute(wy-wytrue)\n",
    "f = wyerrmax.max()\n",
    "print(float(f))\n",
    "wzerrmax = darray.absolute(wz-wztrue)\n",
    "f = wzerrmax.max()\n",
    "print(float(f))\n",
    "#print(int(wxerrmax.argmax(dim=[\"x\", \"y\", \"z\"])['x']))\n",
    "#print(int(wxerrmax.argmax(dim=[\"x\", \"y\", \"z\"])['y']))\n",
    "#print(int(wxerrmax.argmax(dim=[\"x\", \"y\", \"z\"])['z']))"
   ]
  },
  {
   "cell_type": "code",
   "execution_count": 28,
   "id": "5601c750-a66e-4e90-b83d-87f3f13cf270",
   "metadata": {},
   "outputs": [],
   "source": [
    "ds['wx'] = wx\n",
    "ds['wy'] = wy\n",
    "ds['wz'] = wz\n",
    "\n",
    "ds['x'].attrs['axis'] = 'X'\n",
    "ds['y'].attrs['axis'] = 'Y'\n",
    "ds['z'].attrs['axis'] = 'Z'"
   ]
  },
  {
   "cell_type": "code",
   "execution_count": 27,
   "id": "6003c699-d936-4901-a4ea-6984ccb66acb",
   "metadata": {},
   "outputs": [],
   "source": [
    "ds.to_netcdf('/tmp/foo.nc', mode='w')"
   ]
  },
  {
   "cell_type": "code",
   "execution_count": 16,
   "id": "ea924d6d-ef8f-4984-b44a-de24d19cd51b",
   "metadata": {},
   "outputs": [
    {
     "data": {
      "text/plain": [
       "0.0"
      ]
     },
     "execution_count": 16,
     "metadata": {},
     "output_type": "execute_result"
    }
   ],
   "source": [
    "np.amax(vz.values)"
   ]
  },
  {
   "cell_type": "code",
   "execution_count": null,
   "id": "4b524dd0-0080-4360-9183-d61a5317b908",
   "metadata": {},
   "outputs": [],
   "source": [
    "a = np.arange(6).reshape(2,3)\n",
    "a"
   ]
  },
  {
   "cell_type": "code",
   "execution_count": null,
   "id": "daddeae9-78db-4256-a3b8-3941196a3e72",
   "metadata": {},
   "outputs": [],
   "source": [
    "a[1,:]"
   ]
  },
  {
   "cell_type": "code",
   "execution_count": null,
   "id": "fd88c21d-c1c6-4038-88b7-826cf2c959a7",
   "metadata": {},
   "outputs": [],
   "source": []
  }
 ],
 "metadata": {
  "kernelspec": {
   "display_name": "Python 3 (ipykernel)",
   "language": "python",
   "name": "python3"
  },
  "language_info": {
   "codemirror_mode": {
    "name": "ipython",
    "version": 3
   },
   "file_extension": ".py",
   "mimetype": "text/x-python",
   "name": "python",
   "nbconvert_exporter": "python",
   "pygments_lexer": "ipython3",
   "version": "3.10.6"
  }
 },
 "nbformat": 4,
 "nbformat_minor": 5
}
